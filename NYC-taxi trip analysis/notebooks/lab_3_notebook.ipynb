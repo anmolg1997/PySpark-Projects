{
 "cells": [
  {
   "attachments": {},
   "cell_type": "markdown",
   "metadata": {},
   "source": [
    "## Data Lab: Load and Join Employees and Departments data"
   ]
  },
  {
   "cell_type": "code",
   "execution_count": 1,
   "metadata": {},
   "outputs": [],
   "source": [
    "import logging\n",
    "from pyspark.sql import SparkSession"
   ]
  },
  {
   "attachments": {},
   "cell_type": "markdown",
   "metadata": {},
   "source": [
    "#### Create Spark Session. Remember this is our entry point for Dataframes or Datasets, not RDDs! "
   ]
  },
  {
   "cell_type": "code",
   "execution_count": 2,
   "metadata": {},
   "outputs": [],
   "source": [
    "\n",
    "def rdd_to_dataframe(data, schema):\n",
    "    \"\"\"\n",
    "    Example: This fn creates a Spark RDD, loads it into a Spark DataFrame, and returns the DataFrame\n",
    "    \"\"\"\n",
    "\n",
    "    # Create a SparkSession\n",
    "    spark = SparkSession.builder.appName(\"RDDToDataFrame\").getOrCreate()\n",
    "\n",
    "    try:\n",
    "        # Create an RDD from the input data, using Spark Context not Session!\n",
    "        rdd = spark.sparkContext.parallelize(data)\n",
    "\n",
    "        # Convert RDD to DataFrame\n",
    "        df = spark.createDataFrame(rdd, schema)\n",
    "\n",
    "        # Return the DataFrame, without stopping the SparkSession\n",
    "        return df\n",
    "\n",
    "    except Exception as e:\n",
    "        # Log error and Stop the SparkSession\n",
    "        logging.error('Error while transforming RDD to DF: {}'.format(e))\n",
    "        spark.stop()\n"
   ]
  },
  {
   "attachments": {},
   "cell_type": "markdown",
   "metadata": {},
   "source": [
    "----\n",
    "Create some random data"
   ]
  },
  {
   "cell_type": "code",
   "execution_count": 3,
   "metadata": {},
   "outputs": [],
   "source": [
    "# Data sample\n",
    "dept_data = [(1,\"Big Data\"), (2, \"Finance\"), (3,\"Marketing\")]\n",
    "dept_schema = [\"department_id\", \"department_name\"]"
   ]
  },
  {
   "cell_type": "code",
   "execution_count": 4,
   "metadata": {},
   "outputs": [],
   "source": [
    "# Data sample\n",
    "emp_data = [(1,\"Carlos\", 17), (1,\"Bob\", 30), (2,\"Jasmin\", 26)]\n",
    "emp_schema = [\"department_id\",\"employee_name\", \"age\"]"
   ]
  },
  {
   "attachments": {},
   "cell_type": "markdown",
   "metadata": {},
   "source": [
    "---"
   ]
  },
  {
   "attachments": {},
   "cell_type": "markdown",
   "metadata": {},
   "source": [
    "### Let's now use the Spark RDD as a Spark Dataframe"
   ]
  },
  {
   "cell_type": "code",
   "execution_count": 5,
   "metadata": {},
   "outputs": [
    {
     "name": "stderr",
     "output_type": "stream",
     "text": [
      "24/04/25 10:13:32 WARN Utils: Your hostname, ajaisw26-C02DQ79YMD6M resolves to a loopback address: 127.0.0.1; using 192.168.1.25 instead (on interface en0)\n",
      "24/04/25 10:13:32 WARN Utils: Set SPARK_LOCAL_IP if you need to bind to another address\n",
      "Setting default log level to \"WARN\".\n",
      "To adjust logging level use sc.setLogLevel(newLevel). For SparkR, use setLogLevel(newLevel).\n",
      "24/04/25 10:13:34 WARN NativeCodeLoader: Unable to load native-hadoop library for your platform... using builtin-java classes where applicable\n",
      "                                                                                \r"
     ]
    }
   ],
   "source": [
    "# Call function, to transform RDD into DF\n",
    "df_emp = rdd_to_dataframe(emp_data, emp_schema)\n",
    "df_dept = rdd_to_dataframe(dept_data, dept_schema)"
   ]
  },
  {
   "cell_type": "code",
   "execution_count": 9,
   "metadata": {},
   "outputs": [
    {
     "name": "stdout",
     "output_type": "stream",
     "text": [
      "+-------------+---------------+\n",
      "|department_id|department_name|\n",
      "+-------------+---------------+\n",
      "|            1|       Big Data|\n",
      "|            2|        Finance|\n",
      "|            3|      Marketing|\n",
      "+-------------+---------------+\n",
      "\n"
     ]
    }
   ],
   "source": [
    "# Show schema\n",
    "df_dept.show()"
   ]
  },
  {
   "cell_type": "code",
   "execution_count": 7,
   "metadata": {},
   "outputs": [
    {
     "name": "stdout",
     "output_type": "stream",
     "text": [
      "root\n",
      " |-- department_id: long (nullable = true)\n",
      " |-- employee_name: string (nullable = true)\n",
      " |-- age: long (nullable = true)\n",
      "\n"
     ]
    }
   ],
   "source": [
    "df_emp.printSchema()"
   ]
  },
  {
   "attachments": {},
   "cell_type": "markdown",
   "metadata": {},
   "source": [
    "### Use Spark SQL, to join 2 datasets"
   ]
  },
  {
   "cell_type": "code",
   "execution_count": 10,
   "metadata": {},
   "outputs": [],
   "source": [
    "# Do we have a session running?\n",
    "spark = SparkSession.builder.appName(\"RDDToDataFrame\").getOrCreate()"
   ]
  },
  {
   "cell_type": "code",
   "execution_count": 11,
   "metadata": {},
   "outputs": [],
   "source": [
    "# Register as view\n",
    "df_emp.createOrReplaceTempView('employees')\n",
    "df_dept.createOrReplaceTempView('departments')"
   ]
  },
  {
   "cell_type": "code",
   "execution_count": 12,
   "metadata": {},
   "outputs": [
    {
     "name": "stdout",
     "output_type": "stream",
     "text": [
      "+-------------+-------------+---+-------------+---------------+\n",
      "|department_id|employee_name|age|department_id|department_name|\n",
      "+-------------+-------------+---+-------------+---------------+\n",
      "|            1|          Bob| 30|            1|       Big Data|\n",
      "|            2|       Jasmin| 26|            2|        Finance|\n",
      "+-------------+-------------+---+-------------+---------------+\n",
      "\n"
     ]
    }
   ],
   "source": [
    "# Query sample, using Spark SQL\n",
    "spark.sql('''\n",
    "            select emp.*, dept.*\n",
    "            from employees as emp\n",
    "                inner join departments as dept on (emp.department_id = dept.department_id)\n",
    "            where age >= 18\n",
    "            ''').show()"
   ]
  },
  {
   "cell_type": "code",
   "execution_count": 13,
   "metadata": {},
   "outputs": [],
   "source": [
    "# Let's now save the JOINED RESULTSET into a new Temporary View -- NO WHERE CLAUSE\n",
    "spark.sql('''\n",
    "        select emp.employee_name, emp.age, emp.department_id, dept.department_name\n",
    "        from employees as emp\n",
    "            inner join departments as dept on (emp.department_id = dept.department_id)\n",
    "             where age >= 18\n",
    "        ''').createOrReplaceTempView('dept_employees')"
   ]
  },
  {
   "cell_type": "code",
   "execution_count": 14,
   "metadata": {},
   "outputs": [
    {
     "name": "stdout",
     "output_type": "stream",
     "text": [
      "+-------------+---+-------------+---------------+\n",
      "|employee_name|age|department_id|department_name|\n",
      "+-------------+---+-------------+---------------+\n",
      "|          Bob| 30|            1|       Big Data|\n",
      "|       Jasmin| 26|            2|        Finance|\n",
      "+-------------+---+-------------+---------------+\n",
      "\n"
     ]
    }
   ],
   "source": [
    "# Let's now save the JOINED RESULTSET into a new Temporary View -- NO WHERE CLAUSE\n",
    "spark.sql('''\n",
    "        select * from dept_employees where department_id is not null\n",
    "        ''').show()"
   ]
  },
  {
   "attachments": {},
   "cell_type": "markdown",
   "metadata": {},
   "source": [
    "## 💾 Let's save this output for our Business Data Consumers"
   ]
  },
  {
   "cell_type": "code",
   "execution_count": 22,
   "metadata": {},
   "outputs": [],
   "source": [
    "# Define output location\n",
    "output_location = 'output/dept_employees/'\n",
    "\n",
    "# Let's now save the JOINED RESULTSET to local storage. This could be Amazon S3 or other.\n",
    "spark.sql('''\n",
    "        select * from dept_employees where department_id is not null\n",
    "        ''').write.mode('overwrite').csv(output_location)"
   ]
  },
  {
   "cell_type": "code",
   "execution_count": null,
   "metadata": {},
   "outputs": [],
   "source": []
  }
 ],
 "metadata": {
  "kernelspec": {
   "display_name": "venv",
   "language": "python",
   "name": "python3"
  },
  "language_info": {
   "codemirror_mode": {
    "name": "ipython",
    "version": 3
   },
   "file_extension": ".py",
   "mimetype": "text/x-python",
   "name": "python",
   "nbconvert_exporter": "python",
   "pygments_lexer": "ipython3",
   "version": "3.11.6"
  },
  "orig_nbformat": 4
 },
 "nbformat": 4,
 "nbformat_minor": 2
}
