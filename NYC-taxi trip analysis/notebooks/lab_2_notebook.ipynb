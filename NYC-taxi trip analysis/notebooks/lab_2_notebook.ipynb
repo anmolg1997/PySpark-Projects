{
 "cells": [
  {
   "attachments": {},
   "cell_type": "markdown",
   "metadata": {},
   "source": [
    "## Data discovery: Load and query Random data, to create RDD\n",
    "> The hello_world_text.txt file only contains a random sentece, to be used for our word-count function below"
   ]
  },
  {
   "attachments": {},
   "cell_type": "markdown",
   "metadata": {},
   "source": [
    "### This cell only shows how to document code\n",
    "```python\n",
    "print('hello, world')\n",
    "```"
   ]
  },
  {
   "cell_type": "code",
   "execution_count": 2,
   "metadata": {},
   "outputs": [],
   "source": [
    "from pyspark import SparkContext"
   ]
  },
  {
   "cell_type": "code",
   "execution_count": 13,
   "metadata": {},
   "outputs": [],
   "source": [
    "def word_count(file_path):\n",
    "    \"\"\"\n",
    "    The word_count function takes a file path as input, performing a simple word count using SparkContext.\n",
    "    \"\"\"\n",
    "    # Create a SparkContext\n",
    "    sc = SparkContext(appName=\"WordCount\")\n",
    "\n",
    "    try:\n",
    "        # Read the text file and split it into words\n",
    "        lines = sc.textFile(file_path)\n",
    "        words = lines.flatMap(lambda line: line.split(\" \"))\n",
    "        # Count the occurrences of each word\n",
    "        word_counts = words.countByValue()\n",
    "        # print(type(lines), type(words), type(word_counts))\n",
    "        # Print the word counts\n",
    "        for word, count in word_counts.items():\n",
    "            print(f\"{word}: {count}\")\n",
    "\n",
    "    finally:\n",
    "        # Stop the SparkContext\n",
    "        sc.stop()"
   ]
  },
  {
   "cell_type": "code",
   "execution_count": 14,
   "metadata": {},
   "outputs": [
    {
     "name": "stderr",
     "output_type": "stream",
     "text": [
      "                                                                                \r"
     ]
    },
    {
     "name": "stdout",
     "output_type": "stream",
     "text": [
      "I: 3\n",
      "live: 1\n",
      "in: 3\n",
      "the: 2\n",
      "UK,: 2\n",
      "although: 1\n",
      "was: 1\n",
      "not: 1\n",
      "born: 1\n",
      "but: 1\n",
      "Mexico!: 1\n",
      "am: 1\n",
      "your: 1\n",
      "friendly: 1\n",
      "neighbour.: 1\n",
      ": 1\n",
      "Are: 1\n",
      "you: 1\n",
      "?: 1\n"
     ]
    }
   ],
   "source": [
    "# Example usage\n",
    "word_count(\"datasets/text\")\n"
   ]
  },
  {
   "cell_type": "code",
   "execution_count": null,
   "metadata": {},
   "outputs": [],
   "source": []
  }
 ],
 "metadata": {
  "kernelspec": {
   "display_name": "venv",
   "language": "python",
   "name": "python3"
  },
  "language_info": {
   "codemirror_mode": {
    "name": "ipython",
    "version": 3
   },
   "file_extension": ".py",
   "mimetype": "text/x-python",
   "name": "python",
   "nbconvert_exporter": "python",
   "pygments_lexer": "ipython3",
   "version": "3.11.6"
  },
  "orig_nbformat": 4
 },
 "nbformat": 4,
 "nbformat_minor": 2
}
